{
 "cells": [
  {
   "cell_type": "markdown",
   "metadata": {},
   "source": [
    "# Setup Paths"
   ]
  },
  {
   "cell_type": "code",
   "execution_count": null,
   "metadata": {},
   "outputs": [],
   "source": [
    "import splitfolders\n",
    "import os\n",
    "import shutil"
   ]
  },
  {
   "cell_type": "code",
   "execution_count": null,
   "metadata": {},
   "outputs": [],
   "source": [
    "# path = \"Enter the path to the model directory: \"\n",
    "path = \"MODEL_DIR\"\n",
    "folder_holding_dataset = os.path.join(path, \"DATASET_DIR\")\n",
    "split_path = os.path.join(path, 'split')\n",
    "if not os.path.exists(split_path):\n",
    "    os.makedirs(split_path)\n",
    "else: \n",
    "    print(\"Split folder exists\")\n",
    "output_folder = os.path.join(path, \"split\")\n",
    "input_folder = folder_holding_dataset"
   ]
  },
  {
   "cell_type": "markdown",
   "metadata": {},
   "source": [
    "# Split Folders"
   ]
  },
  {
   "cell_type": "code",
   "execution_count": null,
   "metadata": {},
   "outputs": [],
   "source": [
    "# Split with a ratio\n",
    "# Group prefix is 2 to capture image and annotation files for each\n",
    "splitfolders.ratio(input_folder, output=output_folder,\n",
    "    seed=1337, ratio=(.8, .1, .1), group_prefix=2, move=False)"
   ]
  }
 ],
 "metadata": {
  "kernelspec": {
   "display_name": "Nemo",
   "language": "python",
   "name": "nemo"
  },
  "language_info": {
   "codemirror_mode": {
    "name": "ipython",
    "version": 3
   },
   "file_extension": ".py",
   "mimetype": "text/x-python",
   "name": "python",
   "nbconvert_exporter": "python",
   "pygments_lexer": "ipython3",
   "version": "3.10.4"
  },
  "orig_nbformat": 4,
  "vscode": {
   "interpreter": {
    "hash": "27f0e5e1df9da351ef055c5ef3783a7898ea755580039e2618dc361c58d69156"
   }
  }
 },
 "nbformat": 4,
 "nbformat_minor": 2
}
